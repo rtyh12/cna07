{
 "cells": [
  {
   "cell_type": "markdown",
   "metadata": {},
   "source": [
    "# Problem 7-4: European Power Grid\n",
    "Submission from Maria Kagkeli, Maria Regina Lily, and Mihai Verzan "
   ]
  },
  {
   "cell_type": "code",
   "execution_count": 1,
   "metadata": {},
   "outputs": [],
   "source": [
    "import pandas as pd\n",
    "import igraph as ig\n",
    "import numpy as np"
   ]
  },
  {
   "cell_type": "markdown",
   "metadata": {},
   "source": [
    "### Data preprocessing"
   ]
  },
  {
   "cell_type": "code",
   "execution_count": 2,
   "metadata": {},
   "outputs": [],
   "source": [
    "# import csv to pandas dataframe for preprocessing\n",
    "table = pd.read_csv('gridkit_europe-highvoltage-links.csv', delimiter=',')\n",
    "# drop all unecessary columns, leaving only v_id_1 and v_id_2\n",
    "columns = np.array(table.columns)\n",
    "index = list(range(3,17))\n",
    "index.append(0)\n",
    "to_drop = columns[index]\n",
    "table = table.drop(axis=1, columns=to_drop)\n",
    "# save cleaned-up csv file\n",
    "table.to_csv('gridkit_edgelist.csv', header=False, index=False, sep=\"\\t\")\n",
    "# read cleaned csv into simple igraph Graph\n",
    "Gridkit = ig.Graph.Read_Ncol(\"gridkit_edgelist.csv\", directed=False)\n",
    "Gridkit = Gridkit.simplify(multiple=\"False\", loops=\"False\")"
   ]
  },
  {
   "cell_type": "markdown",
   "metadata": {},
   "source": [
    "### Compute kappa"
   ]
  },
  {
   "cell_type": "code",
   "execution_count": 15,
   "metadata": {},
   "outputs": [],
   "source": [
    "degree = np.array(Gridkit.degree())\n",
    "deg_unique, deg_counts = np.unique(degree, return_counts=True)#\n",
    "deg_counts = deg_counts/np.sum(deg_counts)"
   ]
  },
  {
   "cell_type": "code",
   "execution_count": 23,
   "metadata": {},
   "outputs": [
    {
     "name": "stdout",
     "output_type": "stream",
     "text": [
      "kappa = 3.160386641199283\n"
     ]
    }
   ],
   "source": [
    "mean = np.sum(deg_unique*deg_counts)\n",
    "variance = np.sum((deg_unique**2)*deg_counts)\n",
    "kappa = variance/mean\n",
    "print(\"kappa = {}\\n\".format(kappa))"
   ]
  },
  {
   "cell_type": "markdown",
   "metadata": {},
   "source": [
    "### Absolute and relative size of largest component"
   ]
  },
  {
   "cell_type": "code",
   "execution_count": 39,
   "metadata": {},
   "outputs": [
    {
     "name": "stdout",
     "output_type": "stream",
     "text": [
      "absolute size of largest component = 13478\n",
      "relative size of largest component = 1.0271553642973734\n"
     ]
    }
   ],
   "source": [
    "components = Gridkit.components().subgraphs()\n",
    "largest_comp_size = 0\n",
    "for component in components:\n",
    "    if component.vcount()>largest_comp_size:\n",
    "        largest_comp_size = component.vcount()\n",
    "\n",
    "print(\"absolute size of largest component = {}\".format(largest_comp_size))\n",
    "print(\"relative size of largest component = {}\".format(Gridkit.vcount()/largest_comp_size))"
   ]
  },
  {
   "cell_type": "markdown",
   "metadata": {},
   "source": [
    "### $f_c$  and $f^{ER}_c$ of the degree distribution"
   ]
  },
  {
   "cell_type": "code",
   "execution_count": 25,
   "metadata": {},
   "outputs": [
    {
     "name": "stdout",
     "output_type": "stream",
     "text": [
      "f_c = 0.5371198928332218\n",
      "\n",
      "f_c^er = 0.5993517393065926\n",
      "\n"
     ]
    }
   ],
   "source": [
    "fc = 1 - (1/(kappa - 1))\n",
    "fcer = 1 - (1/mean)\n",
    "print(\"f_c = {}\\n\".format(fc))\n",
    "print(\"f_c^er = {}\\n\".format(fcer))"
   ]
  },
  {
   "cell_type": "markdown",
   "metadata": {},
   "source": [
    "Some Discussion"
   ]
  }
 ],
 "metadata": {
  "kernelspec": {
   "display_name": "Python 3",
   "language": "python",
   "name": "python3"
  },
  "language_info": {
   "codemirror_mode": {
    "name": "ipython",
    "version": 3
   },
   "file_extension": ".py",
   "mimetype": "text/x-python",
   "name": "python",
   "nbconvert_exporter": "python",
   "pygments_lexer": "ipython3",
   "version": "3.6.6"
  }
 },
 "nbformat": 4,
 "nbformat_minor": 2
}
